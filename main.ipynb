{
 "cells": [
  {
   "cell_type": "code",
   "execution_count": null,
   "id": "84675306",
   "metadata": {},
   "outputs": [],
   "source": [
    "import yaml\n",
    "from experiment import experiment ,visualize"
   ]
  },
  {
   "cell_type": "code",
   "execution_count": null,
   "id": "71687c5f",
   "metadata": {},
   "outputs": [],
   "source": [
    "def load_config(path=\"./cfg/config.yaml\"):\n",
    "    # pylint: disable=unspecified-encoding\n",
    "    with open(path, 'r') as f:\n",
    "        return yaml.safe_load(f)\n",
    "    \n",
    "config = load_config()"
   ]
  },
  {
   "cell_type": "code",
   "execution_count": null,
   "id": "07cd74e2",
   "metadata": {},
   "outputs": [],
   "source": [
    "experiment( \"DFedAvg, Ring, Sort and partition\" , config,\n",
    "    topo = 'ring',\n",
    "    alpha_dis = -1,\n",
    "    model_type = 'simple',\n",
    "    epochs = 10,\n",
    "    seed = 0,\n",
    "    client_num = 20,\n",
    "    visualize_data = 3,\n",
    "    overwrite_res = True,\n",
    "    result_file = \"exp_1.json\"\n",
    ")\n",
    "\n",
    "experiment( \"DFedAvg, Ring, Sort and partition\" , config,\n",
    "    topo = 'ring',\n",
    "    alpha_dis = -1,\n",
    "    model_type = 'simple',\n",
    "    epochs = 10,\n",
    "    seed = 0,\n",
    "    client_num = 20,\n",
    "    overwrite_res = True,\n",
    "    result_file = \"exp_pseu_1.json\"\n",
    ")"
   ]
  },
  {
   "cell_type": "code",
   "execution_count": null,
   "id": "9b3d504a",
   "metadata": {},
   "outputs": [],
   "source": [
    "res_ls = [\n",
    "    ('Pseu Agg DFedAvg', './result/exp_pseu_1.json'),\n",
    "    ('Aggregation DFedAvg', './result/exp_1.json')]\n",
    "\n",
    "visualize(\n",
    "    res_ls = res_ls,\n",
    "    info = \"max_accu\",\n",
    "    linewidth = 2,\n",
    "    title = \"Accuracy on mnist, ring, Sort and partition, 20 clients, simple\",\n",
    "    ylabel = \"%\",\n",
    "    step = 1\n",
    ")\n",
    "    \n",
    "visualize(\n",
    "    res_ls = res_ls,\n",
    "    info = \"max_accu\",\n",
    "    linewidth = 2,\n",
    "    title = \"Accuracy on mnist, ring, Sort and partition, 20 clients, simple\",\n",
    "    ylabel = \"%\",\n",
    "    xlabel = \"Communication round\",\n",
    "    step = 2\n",
    ")\n",
    "\n",
    "visualize(res_ls = res_ls,\n",
    "    info = \"train_loss\",\n",
    "    linewidth = 2,\n",
    "    title = \"Train loss on mnist, ring, Sort and partition, 20 clients, simple\",\n",
    "    ylabel = \"\",\n",
    "    step = 1\n",
    ")"
   ]
  }
 ],
 "metadata": {
  "kernelspec": {
   "display_name": "base",
   "language": "python",
   "name": "python3"
  },
  "language_info": {
   "name": "python",
   "version": "3.12.8"
  }
 },
 "nbformat": 4,
 "nbformat_minor": 5
}
